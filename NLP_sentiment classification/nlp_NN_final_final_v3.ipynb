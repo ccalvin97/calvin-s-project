{
  "nbformat": 4,
  "nbformat_minor": 0,
  "metadata": {
    "colab": {
      "name": "nlp_NN_final_final_v3.ipynb",
      "version": "0.3.2",
      "provenance": [],
      "collapsed_sections": []
    },
    "kernelspec": {
      "name": "python3",
      "display_name": "Python 3"
    },
    "accelerator": "GPU"
  },
  "cells": [
    {
      "metadata": {
        "id": "Ofr7UFj7uIxb",
        "colab_type": "code",
        "outputId": "45543536-faf2-4505-bd3c-724ba34a43fe",
        "colab": {
          "base_uri": "https://localhost:8080/",
          "height": 128
        }
      },
      "cell_type": "code",
      "source": [
        "import tensorflow as tf\n",
        "from tensorflow import keras\n",
        "\n",
        "from google.colab import drive\n",
        "\n",
        "drive.mount('/content/gdrive')\n"
      ],
      "execution_count": 1,
      "outputs": [
        {
          "output_type": "stream",
          "text": [
            "Go to this URL in a browser: https://accounts.google.com/o/oauth2/auth?client_id=947318989803-6bn6qk8qdgf4n4g3pfee6491hc0brc4i.apps.googleusercontent.com&redirect_uri=urn%3Aietf%3Awg%3Aoauth%3A2.0%3Aoob&scope=email%20https%3A%2F%2Fwww.googleapis.com%2Fauth%2Fdocs.test%20https%3A%2F%2Fwww.googleapis.com%2Fauth%2Fdrive%20https%3A%2F%2Fwww.googleapis.com%2Fauth%2Fdrive.photos.readonly%20https%3A%2F%2Fwww.googleapis.com%2Fauth%2Fpeopleapi.readonly&response_type=code\n",
            "\n",
            "Enter your authorization code:\n",
            "··········\n",
            "Mounted at /content/gdrive\n"
          ],
          "name": "stdout"
        }
      ]
    },
    {
      "metadata": {
        "id": "UEo0wEUloDyP",
        "colab_type": "code",
        "colab": {}
      },
      "cell_type": "code",
      "source": [
        "import numpy as np # linear algebra\n",
        "import pandas as pd # data processing, CSV file I/O (e.g. pd.read_csv)\n",
        "import os"
      ],
      "execution_count": 0,
      "outputs": []
    },
    {
      "metadata": {
        "id": "2-fV-7G7oD08",
        "colab_type": "code",
        "colab": {
          "base_uri": "https://localhost:8080/",
          "height": 35
        },
        "outputId": "799ab97f-40b7-47f7-f783-11bb60b5a16e"
      },
      "cell_type": "code",
      "source": [
        "import numpy as np\n",
        "import pandas as pd\n",
        "import re\n",
        "#from sentiment_utils import *\n",
        "from keras.models import Model\n",
        "from keras.layers import Dense, Input, Dropout, LSTM, Activation\n",
        "from keras.layers.embeddings import Embedding\n",
        "from keras.preprocessing import sequence\n",
        "from keras.initializers import glorot_uniform\n",
        "from keras.utils import np_utils\n",
        "from keras.callbacks import EarlyStopping\n",
        "from nltk.corpus import stopwords\n",
        "np.random.seed(1)\n",
        "from sklearn.model_selection import train_test_split\n",
        "\n",
        "#from emo_utils import *\n",
        "import matplotlib.pyplot as plt\n",
        "from keras.layers import Dense, Input, LSTM, Embedding, Dropout, Activation\n",
        "from keras.layers.merge import concatenate\n",
        "from keras.models import Model\n",
        "from keras.layers.normalization import BatchNormalization\n",
        "from keras.engine.topology import Layer"
      ],
      "execution_count": 3,
      "outputs": [
        {
          "output_type": "stream",
          "text": [
            "Using TensorFlow backend.\n"
          ],
          "name": "stderr"
        }
      ]
    },
    {
      "metadata": {
        "id": "90iIGubxCodS",
        "colab_type": "code",
        "colab": {}
      },
      "cell_type": "code",
      "source": [
        "class Attention(Layer):\n",
        "     # Input shape 3D tensor with shape: `(samples, steps, features)`.\n",
        "     # Output shape 2D tensor with shape: `(samples, features)`.\n",
        "\n",
        "    def __init__(self, step_dim,W_regulizer = None,b_regulizer = None,\n",
        "                 W_constraint = None, b_constraint = None,bias = True,**kwargs):\n",
        "        \n",
        "        self.W_regulizer = W_regulizer\n",
        "        self.b_regulizer = b_regulizer\n",
        "        \n",
        "        self.W_constraint = W_constraint\n",
        "        self.b_constraint = b_constraint\n",
        "        \n",
        "        self.bias = bias\n",
        "        self.step_dim = step_dim\n",
        "        self.features_dim = 0\n",
        "        self.init = initializers.get('glorot_uniform')\n",
        "        super(Attention, self).__init__(**kwargs)\n",
        "\n",
        "    def build(self, input_shape):\n",
        "        assert len(input_shape) == 3\n",
        "        # Create a trainable weight variable for this layer.\n",
        "        self.W = self.add_weight(name='kernel', \n",
        "                                      shape=(input_shape[-1],),\n",
        "                                      initializer= self.init,\n",
        "                                      constraint = self.W_constraint,\n",
        "                                      regularizer = self.W_regulizer)\n",
        "#                                       name = '{}_W'.format(self.name)\n",
        "        \n",
        "        self.features_dim = input_shape[-1]\n",
        "        \n",
        "        if self.bias:\n",
        "            self.b = self.add_weight((input_shape[1],),\n",
        "                                     initializer='zero',\n",
        "                                     name='{}_b'.format(self.name),\n",
        "                                     regularizer=self.b_regulizer,\n",
        "                                     constraint=self.b_constraint)\n",
        "        else:\n",
        "            self.b = None\n",
        "        super(Attention, self).build(input_shape)  \n",
        "\n",
        "    \n",
        "    def call(self, x, mask=None):\n",
        "      \n",
        "        features_dim = self.features_dim\n",
        "        step_dim = self.step_dim\n",
        "\n",
        "        eij = K.reshape(K.dot(K.reshape(x, (-1, features_dim)), K.reshape(self.W, (features_dim, 1))), (-1, step_dim))\n",
        "\n",
        "        if self.bias:\n",
        "            eij += self.b\n",
        "\n",
        "        eij = K.tanh(eij)\n",
        "\n",
        "        a = K.exp(eij)\n",
        "\n",
        "        # apply mask after the exp. will be re-normalized next\n",
        "        if mask is not None:\n",
        "           \n",
        "            a *= K.cast(mask, K.floatx())\n",
        "\n",
        "        a /= K.cast(K.sum(a, axis=1, keepdims=True) + K.epsilon(), K.floatx())\n",
        "\n",
        "        a = K.expand_dims(a)\n",
        "        weighted_input = x * a\n",
        "    \n",
        "        return K.sum(weighted_input, axis=1)\n",
        "\n",
        "    def compute_output_shape(self, input_shape):\n",
        "        return input_shape[0],  self.features_dim\n"
      ],
      "execution_count": 0,
      "outputs": []
    },
    {
      "metadata": {
        "id": "dsCqKsJIoD3u",
        "colab_type": "code",
        "colab": {}
      },
      "cell_type": "code",
      "source": [
        "def remove_stopwords(input_text):\n",
        "    '''\n",
        "    Function to remove English stopwords from a Pandas Series.\n",
        "    \n",
        "    Parameters:\n",
        "        input_text : text to clean\n",
        "    Output:\n",
        "        cleaned Pandas Series \n",
        "    '''\n",
        "    stopwords_list = stopwords.words('english')\n",
        "    # Some words which might indicate a certain sentiment are kept via a whitelist\n",
        "    whitelist = [\"n't\", \"not\", \"no\"]\n",
        "    words = input_text.split() \n",
        "    clean_words = [word for word in words if (word not in stopwords_list or word in whitelist) and len(word) > 1] \n",
        "    return \" \".join(clean_words)\n",
        "\n",
        "def remove_mentions(input_text):\n",
        "    '''\n",
        "    Function to remove mentions, preceded by @, in a Pandas Series\n",
        "    \n",
        "    Parameters:\n",
        "        input_text : text to clean\n",
        "    Output:\n",
        "        cleaned Pandas Series \n",
        "    '''\n",
        "    return re.sub(r'@\\w+', '', input_text)"
      ],
      "execution_count": 0,
      "outputs": []
    },
    {
      "metadata": {
        "id": "uc3cFcGWoD6k",
        "colab_type": "code",
        "outputId": "159cba84-c0e7-4b85-d810-ceef4568ed6e",
        "colab": {
          "base_uri": "https://localhost:8080/",
          "height": 198
        }
      },
      "cell_type": "code",
      "source": [
        "#Read the data\n",
        "train_df = pd.read_csv('/content/gdrive/My Drive/Tweets_v2.csv',encoding=\"latin-1\")\n",
        "train_df.head()"
      ],
      "execution_count": 6,
      "outputs": [
        {
          "output_type": "execute_result",
          "data": {
            "text/html": [
              "<div>\n",
              "<style scoped>\n",
              "    .dataframe tbody tr th:only-of-type {\n",
              "        vertical-align: middle;\n",
              "    }\n",
              "\n",
              "    .dataframe tbody tr th {\n",
              "        vertical-align: top;\n",
              "    }\n",
              "\n",
              "    .dataframe thead th {\n",
              "        text-align: right;\n",
              "    }\n",
              "</style>\n",
              "<table border=\"1\" class=\"dataframe\">\n",
              "  <thead>\n",
              "    <tr style=\"text-align: right;\">\n",
              "      <th></th>\n",
              "      <th>airline_sentiment</th>\n",
              "      <th>text</th>\n",
              "    </tr>\n",
              "  </thead>\n",
              "  <tbody>\n",
              "    <tr>\n",
              "      <th>0</th>\n",
              "      <td>neutral</td>\n",
              "      <td>@VirginAmerica What @dhepburn said.</td>\n",
              "    </tr>\n",
              "    <tr>\n",
              "      <th>1</th>\n",
              "      <td>positive</td>\n",
              "      <td>@VirginAmerica plus you've added commercials t...</td>\n",
              "    </tr>\n",
              "    <tr>\n",
              "      <th>2</th>\n",
              "      <td>neutral</td>\n",
              "      <td>@VirginAmerica I didn't today... Must mean I n...</td>\n",
              "    </tr>\n",
              "    <tr>\n",
              "      <th>3</th>\n",
              "      <td>negative</td>\n",
              "      <td>@VirginAmerica it's really aggressive to blast...</td>\n",
              "    </tr>\n",
              "    <tr>\n",
              "      <th>4</th>\n",
              "      <td>negative</td>\n",
              "      <td>@VirginAmerica and it's a really big bad thing...</td>\n",
              "    </tr>\n",
              "  </tbody>\n",
              "</table>\n",
              "</div>"
            ],
            "text/plain": [
              "  airline_sentiment                                               text\n",
              "0           neutral                @VirginAmerica What @dhepburn said.\n",
              "1          positive  @VirginAmerica plus you've added commercials t...\n",
              "2           neutral  @VirginAmerica I didn't today... Must mean I n...\n",
              "3          negative  @VirginAmerica it's really aggressive to blast...\n",
              "4          negative  @VirginAmerica and it's a really big bad thing..."
            ]
          },
          "metadata": {
            "tags": []
          },
          "execution_count": 6
        }
      ]
    },
    {
      "metadata": {
        "id": "Sy78nlpdoD9K",
        "colab_type": "code",
        "colab": {}
      },
      "cell_type": "code",
      "source": [
        "#check Different labels for Sentiment\n",
        "Mood = train_df['airline_sentiment'].value_counts()"
      ],
      "execution_count": 0,
      "outputs": []
    },
    {
      "metadata": {
        "id": "yEkLPv51oEFM",
        "colab_type": "code",
        "outputId": "0378672c-707d-43f2-9fb7-080143d4a684",
        "colab": {
          "base_uri": "https://localhost:8080/",
          "height": 198
        }
      },
      "cell_type": "code",
      "source": [
        "#cleaning Data\n",
        "train_df = train_df[['text', 'airline_sentiment']]\n",
        "train_df.text = train_df.text.apply(remove_mentions)\n",
        "train_df.loc[:,'sentiment'] = train_df.airline_sentiment.map({'negative':0,'neutral':1,'positive':2})\n",
        "train_df = train_df.drop(['airline_sentiment'], axis=1)\n",
        "train_df.head()"
      ],
      "execution_count": 8,
      "outputs": [
        {
          "output_type": "execute_result",
          "data": {
            "text/html": [
              "<div>\n",
              "<style scoped>\n",
              "    .dataframe tbody tr th:only-of-type {\n",
              "        vertical-align: middle;\n",
              "    }\n",
              "\n",
              "    .dataframe tbody tr th {\n",
              "        vertical-align: top;\n",
              "    }\n",
              "\n",
              "    .dataframe thead th {\n",
              "        text-align: right;\n",
              "    }\n",
              "</style>\n",
              "<table border=\"1\" class=\"dataframe\">\n",
              "  <thead>\n",
              "    <tr style=\"text-align: right;\">\n",
              "      <th></th>\n",
              "      <th>text</th>\n",
              "      <th>sentiment</th>\n",
              "    </tr>\n",
              "  </thead>\n",
              "  <tbody>\n",
              "    <tr>\n",
              "      <th>0</th>\n",
              "      <td>What  said.</td>\n",
              "      <td>1</td>\n",
              "    </tr>\n",
              "    <tr>\n",
              "      <th>1</th>\n",
              "      <td>plus you've added commercials to the experien...</td>\n",
              "      <td>2</td>\n",
              "    </tr>\n",
              "    <tr>\n",
              "      <th>2</th>\n",
              "      <td>I didn't today... Must mean I need to take an...</td>\n",
              "      <td>1</td>\n",
              "    </tr>\n",
              "    <tr>\n",
              "      <th>3</th>\n",
              "      <td>it's really aggressive to blast obnoxious \"en...</td>\n",
              "      <td>0</td>\n",
              "    </tr>\n",
              "    <tr>\n",
              "      <th>4</th>\n",
              "      <td>and it's a really big bad thing about it</td>\n",
              "      <td>0</td>\n",
              "    </tr>\n",
              "  </tbody>\n",
              "</table>\n",
              "</div>"
            ],
            "text/plain": [
              "                                                text  sentiment\n",
              "0                                        What  said.          1\n",
              "1   plus you've added commercials to the experien...          2\n",
              "2   I didn't today... Must mean I need to take an...          1\n",
              "3   it's really aggressive to blast obnoxious \"en...          0\n",
              "4           and it's a really big bad thing about it          0"
            ]
          },
          "metadata": {
            "tags": []
          },
          "execution_count": 8
        }
      ]
    },
    {
      "metadata": {
        "id": "rqTz1FKnoEHz",
        "colab_type": "code",
        "colab": {}
      },
      "cell_type": "code",
      "source": [
        "#This step is to find the maximun length of the input string so as to fed the neural net with same length\n",
        "raw_docs_train = train_df[\"text\"].values\n",
        "sentiment_train = train_df['sentiment'].values\n",
        "\n",
        "maxLen = len(max(raw_docs_train, key=len).split())"
      ],
      "execution_count": 0,
      "outputs": []
    },
    {
      "metadata": {
        "id": "q92wJGQUoEKc",
        "colab_type": "code",
        "outputId": "b333e1f9-05f5-4756-d172-d61c5597e87e",
        "colab": {
          "base_uri": "https://localhost:8080/",
          "height": 54
        }
      },
      "cell_type": "code",
      "source": [
        "#For our model we need to split our training dataset into test dataset. This is actually dev set for getting the loss\n",
        "X_train, X_test, Y_train, Y_test = train_test_split(raw_docs_train, sentiment_train, \n",
        "                                                  stratify=sentiment_train, \n",
        "                                                  random_state=42, \n",
        "                                                  test_size=0.1, shuffle=True)\n",
        "\n",
        "X_train, X_val, Y_train, Y_val = train_test_split(X_train, Y_train, \n",
        "                                                  stratify=Y_train, \n",
        "                                                  random_state=42, \n",
        "                                                  test_size=0.1, shuffle=True)\n",
        "\n",
        "\n",
        "print('# Train data samples:', X_train.shape)\n",
        "print('# Test data samples:', X_test.shape)\n",
        "assert X_train.shape[0] == Y_train.shape[0]\n",
        "assert X_val.shape[0] == Y_val.shape[0]\n",
        "assert X_test.shape[0] == Y_test.shape[0]"
      ],
      "execution_count": 10,
      "outputs": [
        {
          "output_type": "stream",
          "text": [
            "# Train data samples: (11858,)\n",
            "# Test data samples: (1464,)\n"
          ],
          "name": "stdout"
        }
      ]
    },
    {
      "metadata": {
        "id": "kwHkZ4-ooENM",
        "colab_type": "code",
        "outputId": "14b4f962-65b3-457f-82bc-3da12628d041",
        "colab": {
          "base_uri": "https://localhost:8080/",
          "height": 35
        }
      },
      "cell_type": "code",
      "source": [
        "#Convert the labels to One hot encoding vector for softmax for neural network\n",
        "\n",
        "#Y_oh_train = convert_to_one_hot(Y_train, C = num_labels)\n",
        "num_labels = len(np.unique(sentiment_train))\n",
        "Y_oh_train = np_utils.to_categorical(Y_train, num_labels)\n",
        "Y_oh_val = np_utils.to_categorical(Y_val, num_labels)\n",
        "Y_oh_test = np_utils.to_categorical(Y_test, num_labels)\n",
        "print(Y_oh_train.shape)"
      ],
      "execution_count": 11,
      "outputs": [
        {
          "output_type": "stream",
          "text": [
            "(11858, 3)\n"
          ],
          "name": "stdout"
        }
      ]
    },
    {
      "metadata": {
        "id": "W5cQukx5oEPs",
        "colab_type": "code",
        "colab": {}
      },
      "cell_type": "code",
      "source": [
        "#Now we need Glove Vectors for Word which is available online \n",
        "#word_to_index, index_to_word, word_to_vec_map = read_glove_vecs('Data/glove.6B.50d.txt')\n",
        "\n",
        "# load the GloVe vectors in a dictionary:\n",
        "\n",
        "def read_glove_vecs(glove_file):\n",
        "    with open(glove_file, encoding=\"utf8\") as f:\n",
        "        words = set()\n",
        "        word_to_vec_map = {}\n",
        "        for line in f:\n",
        "            line = line.strip().split()\n",
        "            curr_word = line[0]\n",
        "            words.add(curr_word)\n",
        "            word_to_vec_map[curr_word] = np.array(line[1:], dtype=np.float64)\n",
        "        \n",
        "        i = 1\n",
        "        words_to_index = {}\n",
        "        index_to_words = {}\n",
        "        for w in sorted(words):\n",
        "            words_to_index[w] = i\n",
        "            index_to_words[i] = w\n",
        "            i = i + 1\n",
        "    return words_to_index, index_to_words, word_to_vec_map\n",
        "\n",
        "\n",
        "\n",
        "word_to_index, index_to_word, word_to_vec_map = read_glove_vecs('/content/gdrive/My Drive/glove.6B.50d.txt')"
      ],
      "execution_count": 0,
      "outputs": []
    },
    {
      "metadata": {
        "id": "nBPvevVZoESc",
        "colab_type": "code",
        "outputId": "7fdec625-e109-4d14-c7c1-50d3ed7b0393",
        "colab": {
          "base_uri": "https://localhost:8080/",
          "height": 54
        }
      },
      "cell_type": "code",
      "source": [
        "word = \"cucumber\"\n",
        "index = 289846\n",
        "print(\"the index of\", word, \"in the vocabulary is\", word_to_index[word])\n",
        "print(\"the\", str(index) + \"th word in the vocabulary is\", index_to_word[index])"
      ],
      "execution_count": 13,
      "outputs": [
        {
          "output_type": "stream",
          "text": [
            "the index of cucumber in the vocabulary is 113317\n",
            "the 289846th word in the vocabulary is potatos\n"
          ],
          "name": "stdout"
        }
      ]
    },
    {
      "metadata": {
        "id": "3E7L-c_uoEVR",
        "colab_type": "code",
        "colab": {}
      },
      "cell_type": "code",
      "source": [
        "# This function convert array of strings into array of Indices of word in the voacab.\n",
        "\n",
        "def sentences_to_indices(X, word_to_index, max_len):\n",
        "    \"\"\"\n",
        "    Converts an array of sentences (strings) into an array of indices corresponding to words in the sentences.\n",
        "    The output shape should be such that it can be given to `Embedding()` (described in Figure 4). \n",
        "    \n",
        "    Arguments:\n",
        "    X -- array of sentences (strings), of shape (m, 1)\n",
        "    word_to_index -- a dictionary containing the each word mapped to its index\n",
        "    max_len -- maximum number of words in a sentence. You can assume every sentence in X is no longer than this. \n",
        "    \n",
        "    Returns:\n",
        "    X_indices -- array of indices corresponding to words in the sentences from X, of shape (m, max_len)\n",
        "    \"\"\"\n",
        "    \n",
        "    m = X.shape[0]                                   # number of training examples\n",
        "    \n",
        "    # Initialize X_indices as a numpy matrix of zeros and the correct shape (≈ 1 line)\n",
        "    X_indices = np.zeros((m,max_len))\n",
        "    \n",
        "    for i in range(m):                               # loop over training examples\n",
        "        \n",
        "        # Convert the ith training sentence in lower case and split is into words. You should get a list of words.\n",
        "        sentence_words =[word.lower().replace('\\t', '') for word in X[i].split(' ') if word.replace('\\t', '') != '']\n",
        "        \n",
        "        # Initialize j to 0\n",
        "        j = 0\n",
        "        \n",
        "        # Loop over the words of sentence_words\n",
        "        for w in sentence_words:\n",
        "            # Set the (i,j)th entry of X_indices to the index of the correct word.\n",
        "            try:\n",
        "                X_indices[i, j] = word_to_index[w]\n",
        "            except: 0\n",
        "            # Increment j to j + 1\n",
        "            j = j+1\n",
        "    \n",
        "    return X_indices"
      ],
      "execution_count": 0,
      "outputs": []
    },
    {
      "metadata": {
        "id": "0IAl-J2Kooko",
        "colab_type": "code",
        "colab": {}
      },
      "cell_type": "code",
      "source": [
        "# Create Keras Embedding layer\n",
        "def pretrained_embedding_layer(word_to_vec_map, word_to_index):\n",
        "    \"\"\"\n",
        "    Creates a Keras Embedding() layer and loads in pre-trained GloVe 50-dimensional vectors.\n",
        "    \n",
        "    Arguments:\n",
        "    word_to_vec_map -- dictionary mapping words to their GloVe vector representation.\n",
        "    word_to_index -- dictionary mapping from words to their indices in the vocabulary (400,001 words)\n",
        "\n",
        "    Returns:\n",
        "    embedding_layer -- pretrained layer Keras instance\n",
        "    \"\"\"\n",
        "    \n",
        "    vocab_len = len(word_to_index) + 1                  # adding 1 to fit Keras embedding (requirement)\n",
        "    emb_dim = word_to_vec_map[\"cucumber\"].shape[0]      # define dimensionality of your GloVe word vectors (= 50)\n",
        "    \n",
        "    ### START CODE HERE ###\n",
        "    # Initialize the embedding matrix as a numpy array of zeros of shape (vocab_len, dimensions of word vectors = emb_dim)\n",
        "    emb_matrix = np.zeros((vocab_len,emb_dim))\n",
        "    \n",
        "    # Set each row \"index\" of the embedding matrix to be the word vector representation of the \"index\"th word of the vocabulary\n",
        "    for word, index in word_to_index.items():\n",
        "        emb_matrix[index, :] = word_to_vec_map[word]\n",
        "\n",
        "    # Define Keras embedding layer with the correct output/input sizes, make it trainable. Use Embedding(...). Make sure to set trainable=False. \n",
        "    embedding_layer = Embedding(vocab_len, emb_dim, trainable = False)\n",
        "    ### END CODE HERE ###\n",
        "\n",
        "    # Build the embedding layer, it is required before setting the weights of the embedding layer. Do not modify the \"None\".\n",
        "    embedding_layer.build((None,))\n",
        "    \n",
        "    # Set the weights of the embedding layer to the embedding matrix. Your layer is now pretrained.\n",
        "    embedding_layer.set_weights([emb_matrix])\n",
        "    \n",
        "    return embedding_layer"
      ],
      "execution_count": 0,
      "outputs": []
    },
    {
      "metadata": {
        "id": "c0JpOmuGoon_",
        "colab_type": "code",
        "colab": {
          "base_uri": "https://localhost:8080/",
          "height": 146
        },
        "outputId": "a7c84df9-d085-4e1c-f4cf-5034d3913698"
      },
      "cell_type": "code",
      "source": [
        "from keras import initializers, regularizers, constraints\n",
        "from keras import backend as K\n",
        "from keras.layers import LSTM, Bidirectional, Dropout\n",
        "\n",
        "act = 'relu'\n",
        "### START CODE HERE ###\n",
        "sentence_indices =  Input(shape=(maxLen,), dtype='int32')\n",
        "embedding_layer = pretrained_embedding_layer(word_to_vec_map, word_to_index)\n",
        "embeddings = embedding_layer(sentence_indices)  \n",
        "X = Bidirectional(LSTM(256, return_sequences=True, dropout=0.5,recurrent_dropout=0.25))(embeddings)\n",
        "X = Attention(maxLen)(X)\n",
        "X = Dense(128, activation = act)(X)\n",
        "X = BatchNormalization()(X)\n",
        "X = Dropout(0.5)(X)\n",
        "X = Dense(64, activation = act)(X)\n",
        "X = BatchNormalization()(X)\n",
        "X = Dropout(0.5)(X)\n",
        "X = Dense(3, activation=None)(X)\n",
        "X = Activation('softmax')(X)\n",
        "   \n",
        "model = Model(inputs=[sentence_indices], outputs=X)\n",
        "    \n",
        "\n",
        "    \n"
      ],
      "execution_count": 16,
      "outputs": [
        {
          "output_type": "stream",
          "text": [
            "WARNING:tensorflow:From /usr/local/lib/python3.6/dist-packages/tensorflow/python/framework/op_def_library.py:263: colocate_with (from tensorflow.python.framework.ops) is deprecated and will be removed in a future version.\n",
            "Instructions for updating:\n",
            "Colocations handled automatically by placer.\n",
            "WARNING:tensorflow:From /usr/local/lib/python3.6/dist-packages/keras/backend/tensorflow_backend.py:3445: calling dropout (from tensorflow.python.ops.nn_ops) with keep_prob is deprecated and will be removed in a future version.\n",
            "Instructions for updating:\n",
            "Please use `rate` instead of `keep_prob`. Rate should be set to `rate = 1 - keep_prob`.\n"
          ],
          "name": "stdout"
        }
      ]
    },
    {
      "metadata": {
        "id": "5MSDJ77Zoot1",
        "colab_type": "code",
        "colab": {}
      },
      "cell_type": "code",
      "source": [
        "model.compile(loss='categorical_crossentropy', optimizer='adam', metrics=['accuracy'])\n"
      ],
      "execution_count": 0,
      "outputs": []
    },
    {
      "metadata": {
        "id": "WjNRdlyOoowg",
        "colab_type": "code",
        "outputId": "e408f655-53d8-4b2a-9847-36d4fff975e4",
        "colab": {
          "base_uri": "https://localhost:8080/",
          "height": 35
        }
      },
      "cell_type": "code",
      "source": [
        "X_train_indices = sentences_to_indices(X_train, word_to_index, maxLen)\n",
        "X_val_indices = sentences_to_indices(X_val, word_to_index, maxLen)\n",
        "X_test_indices = sentences_to_indices(X_test, word_to_index, maxLen)\n",
        "print(X_train_indices.shape)"
      ],
      "execution_count": 18,
      "outputs": [
        {
          "output_type": "stream",
          "text": [
            "(11858, 26)\n"
          ],
          "name": "stdout"
        }
      ]
    },
    {
      "metadata": {
        "id": "f6RTFKtOoozP",
        "colab_type": "code",
        "outputId": "043d0994-3f3e-498b-b977-e8266105f213",
        "colab": {
          "base_uri": "https://localhost:8080/",
          "height": 3683
        }
      },
      "cell_type": "code",
      "source": [
        "earlystop = EarlyStopping(monitor='val_loss', min_delta=0, patience=10, verbose=0, mode='auto')\n",
        "\n",
        "history=model.fit(X_train_indices, y=Y_oh_train, batch_size=512, epochs=300, \n",
        "          verbose=1, validation_data=(X_val_indices, Y_oh_val), callbacks=[earlystop])\n",
        "\n",
        "print(history.history.keys())\n",
        "# summarize history for accuracy\n",
        "plt.plot(history.history['acc'])\n",
        "plt.plot(history.history['val_acc'])\n",
        "plt.title('model validation accuracy')\n",
        "plt.ylabel('accuracy')\n",
        "plt.xlabel('epoch')\n",
        "plt.legend(['train', 'val'], loc='upper left')\n",
        "plt.show()\n",
        "# summarize history for loss\n",
        "plt.plot(history.history['loss'])\n",
        "plt.plot(history.history['val_loss'])\n",
        "plt.title('model validation loss')\n",
        "plt.ylabel('loss')\n",
        "plt.xlabel('epoch')\n",
        "plt.legend(['train', 'val'], loc='upper left')\n",
        "plt.show()\n"
      ],
      "execution_count": 19,
      "outputs": [
        {
          "output_type": "stream",
          "text": [
            "WARNING:tensorflow:From /usr/local/lib/python3.6/dist-packages/tensorflow/python/ops/math_ops.py:3066: to_int32 (from tensorflow.python.ops.math_ops) is deprecated and will be removed in a future version.\n",
            "Instructions for updating:\n",
            "Use tf.cast instead.\n",
            "Train on 11858 samples, validate on 1318 samples\n",
            "Epoch 1/300\n",
            "11858/11858 [==============================] - 7s 570us/step - loss: 1.5330 - acc: 0.3915 - val_loss: 1.1236 - val_acc: 0.5015\n",
            "Epoch 2/300\n",
            "11858/11858 [==============================] - 4s 332us/step - loss: 1.2713 - acc: 0.4492 - val_loss: 0.8571 - val_acc: 0.6555\n",
            "Epoch 3/300\n",
            "11858/11858 [==============================] - 4s 332us/step - loss: 1.1237 - acc: 0.5006 - val_loss: 0.8217 - val_acc: 0.6768\n",
            "Epoch 4/300\n",
            "11858/11858 [==============================] - 4s 335us/step - loss: 1.0569 - acc: 0.5421 - val_loss: 0.7786 - val_acc: 0.6874\n",
            "Epoch 5/300\n",
            "11858/11858 [==============================] - 4s 332us/step - loss: 0.9919 - acc: 0.5775 - val_loss: 0.7850 - val_acc: 0.6753\n",
            "Epoch 6/300\n",
            "11858/11858 [==============================] - 4s 331us/step - loss: 0.9453 - acc: 0.6004 - val_loss: 0.7537 - val_acc: 0.7011\n",
            "Epoch 7/300\n",
            "11858/11858 [==============================] - 4s 331us/step - loss: 0.9179 - acc: 0.6248 - val_loss: 0.7411 - val_acc: 0.6980\n",
            "Epoch 8/300\n",
            "11858/11858 [==============================] - 4s 329us/step - loss: 0.8931 - acc: 0.6333 - val_loss: 0.7431 - val_acc: 0.6889\n",
            "Epoch 9/300\n",
            "11858/11858 [==============================] - 4s 330us/step - loss: 0.8721 - acc: 0.6429 - val_loss: 0.7510 - val_acc: 0.6715\n",
            "Epoch 10/300\n",
            "11858/11858 [==============================] - 4s 344us/step - loss: 0.8424 - acc: 0.6532 - val_loss: 0.7423 - val_acc: 0.7049\n",
            "Epoch 11/300\n",
            "11858/11858 [==============================] - 4s 330us/step - loss: 0.8292 - acc: 0.6569 - val_loss: 0.7441 - val_acc: 0.7102\n",
            "Epoch 12/300\n",
            "11858/11858 [==============================] - 4s 331us/step - loss: 0.8206 - acc: 0.6647 - val_loss: 0.7347 - val_acc: 0.6866\n",
            "Epoch 13/300\n",
            "11858/11858 [==============================] - 4s 329us/step - loss: 0.8163 - acc: 0.6675 - val_loss: 0.7141 - val_acc: 0.7056\n",
            "Epoch 14/300\n",
            "11858/11858 [==============================] - 4s 330us/step - loss: 0.8171 - acc: 0.6661 - val_loss: 0.7122 - val_acc: 0.7041\n",
            "Epoch 15/300\n",
            "11858/11858 [==============================] - 4s 331us/step - loss: 0.7928 - acc: 0.6718 - val_loss: 0.7114 - val_acc: 0.7064\n",
            "Epoch 16/300\n",
            "11858/11858 [==============================] - 4s 331us/step - loss: 0.7895 - acc: 0.6730 - val_loss: 0.7008 - val_acc: 0.7033\n",
            "Epoch 17/300\n",
            "11858/11858 [==============================] - 4s 334us/step - loss: 0.7765 - acc: 0.6778 - val_loss: 0.7013 - val_acc: 0.7056\n",
            "Epoch 18/300\n",
            "11858/11858 [==============================] - 4s 328us/step - loss: 0.7733 - acc: 0.6761 - val_loss: 0.6926 - val_acc: 0.7193\n",
            "Epoch 19/300\n",
            "11858/11858 [==============================] - 4s 328us/step - loss: 0.7681 - acc: 0.6848 - val_loss: 0.6892 - val_acc: 0.7299\n",
            "Epoch 20/300\n",
            "11858/11858 [==============================] - 4s 325us/step - loss: 0.7595 - acc: 0.6864 - val_loss: 0.6809 - val_acc: 0.7291\n",
            "Epoch 21/300\n",
            "11858/11858 [==============================] - 4s 329us/step - loss: 0.7479 - acc: 0.6890 - val_loss: 0.6890 - val_acc: 0.7124\n",
            "Epoch 22/300\n",
            "11858/11858 [==============================] - 4s 335us/step - loss: 0.7405 - acc: 0.6951 - val_loss: 0.6876 - val_acc: 0.7147\n",
            "Epoch 23/300\n",
            "11858/11858 [==============================] - 4s 336us/step - loss: 0.7281 - acc: 0.6989 - val_loss: 0.6945 - val_acc: 0.7200\n",
            "Epoch 24/300\n",
            "11858/11858 [==============================] - 4s 334us/step - loss: 0.7357 - acc: 0.7005 - val_loss: 0.6537 - val_acc: 0.7284\n",
            "Epoch 25/300\n",
            "11858/11858 [==============================] - 4s 333us/step - loss: 0.7274 - acc: 0.7034 - val_loss: 0.6607 - val_acc: 0.7253\n",
            "Epoch 26/300\n",
            "11858/11858 [==============================] - 4s 331us/step - loss: 0.7281 - acc: 0.7021 - val_loss: 0.6814 - val_acc: 0.7200\n",
            "Epoch 27/300\n",
            "11858/11858 [==============================] - 4s 333us/step - loss: 0.7174 - acc: 0.7090 - val_loss: 0.6366 - val_acc: 0.7458\n",
            "Epoch 28/300\n",
            "11858/11858 [==============================] - 4s 332us/step - loss: 0.7018 - acc: 0.7117 - val_loss: 0.7245 - val_acc: 0.6927\n",
            "Epoch 29/300\n",
            "11858/11858 [==============================] - 4s 331us/step - loss: 0.6947 - acc: 0.7118 - val_loss: 0.6525 - val_acc: 0.7382\n",
            "Epoch 30/300\n",
            "11858/11858 [==============================] - 4s 332us/step - loss: 0.6814 - acc: 0.7161 - val_loss: 0.6305 - val_acc: 0.7542\n",
            "Epoch 31/300\n",
            "11858/11858 [==============================] - 4s 330us/step - loss: 0.6786 - acc: 0.7199 - val_loss: 0.6345 - val_acc: 0.7489\n",
            "Epoch 32/300\n",
            "11858/11858 [==============================] - 4s 330us/step - loss: 0.6793 - acc: 0.7213 - val_loss: 0.6529 - val_acc: 0.7398\n",
            "Epoch 33/300\n",
            "11858/11858 [==============================] - 4s 330us/step - loss: 0.6757 - acc: 0.7182 - val_loss: 0.6514 - val_acc: 0.7466\n",
            "Epoch 34/300\n",
            "11858/11858 [==============================] - 4s 331us/step - loss: 0.6692 - acc: 0.7258 - val_loss: 0.6248 - val_acc: 0.7519\n",
            "Epoch 35/300\n",
            "11858/11858 [==============================] - 4s 334us/step - loss: 0.6606 - acc: 0.7281 - val_loss: 0.6146 - val_acc: 0.7580\n",
            "Epoch 36/300\n",
            "11858/11858 [==============================] - 4s 331us/step - loss: 0.6693 - acc: 0.7277 - val_loss: 0.6159 - val_acc: 0.7572\n",
            "Epoch 37/300\n",
            "11858/11858 [==============================] - 4s 329us/step - loss: 0.6650 - acc: 0.7231 - val_loss: 0.6269 - val_acc: 0.7496\n",
            "Epoch 38/300\n",
            "11858/11858 [==============================] - 4s 333us/step - loss: 0.6498 - acc: 0.7331 - val_loss: 0.6114 - val_acc: 0.7519\n",
            "Epoch 39/300\n",
            "11858/11858 [==============================] - 4s 332us/step - loss: 0.6501 - acc: 0.7325 - val_loss: 0.6051 - val_acc: 0.7504\n",
            "Epoch 40/300\n",
            "11858/11858 [==============================] - 4s 331us/step - loss: 0.6524 - acc: 0.7341 - val_loss: 0.6022 - val_acc: 0.7587\n",
            "Epoch 41/300\n",
            "11858/11858 [==============================] - 4s 331us/step - loss: 0.6416 - acc: 0.7376 - val_loss: 0.6183 - val_acc: 0.7602\n",
            "Epoch 42/300\n",
            "11858/11858 [==============================] - 4s 330us/step - loss: 0.6490 - acc: 0.7355 - val_loss: 0.6002 - val_acc: 0.7656\n",
            "Epoch 43/300\n",
            "11858/11858 [==============================] - 4s 328us/step - loss: 0.6369 - acc: 0.7383 - val_loss: 0.5987 - val_acc: 0.7564\n",
            "Epoch 44/300\n",
            "11858/11858 [==============================] - 4s 332us/step - loss: 0.6396 - acc: 0.7402 - val_loss: 0.5983 - val_acc: 0.7580\n",
            "Epoch 45/300\n",
            "11858/11858 [==============================] - 4s 332us/step - loss: 0.6345 - acc: 0.7414 - val_loss: 0.5949 - val_acc: 0.7671\n",
            "Epoch 46/300\n",
            "11858/11858 [==============================] - 4s 332us/step - loss: 0.6241 - acc: 0.7489 - val_loss: 0.5886 - val_acc: 0.7580\n",
            "Epoch 47/300\n",
            "11858/11858 [==============================] - 4s 329us/step - loss: 0.6259 - acc: 0.7463 - val_loss: 0.5884 - val_acc: 0.7716\n",
            "Epoch 48/300\n",
            "11858/11858 [==============================] - 4s 330us/step - loss: 0.6260 - acc: 0.7429 - val_loss: 0.5886 - val_acc: 0.7678\n",
            "Epoch 49/300\n",
            "11858/11858 [==============================] - 4s 332us/step - loss: 0.6193 - acc: 0.7441 - val_loss: 0.5874 - val_acc: 0.7557\n",
            "Epoch 50/300\n",
            "11858/11858 [==============================] - 4s 334us/step - loss: 0.6163 - acc: 0.7440 - val_loss: 0.5926 - val_acc: 0.7527\n",
            "Epoch 51/300\n",
            "11858/11858 [==============================] - 4s 330us/step - loss: 0.6139 - acc: 0.7462 - val_loss: 0.5859 - val_acc: 0.7587\n",
            "Epoch 52/300\n",
            "11858/11858 [==============================] - 4s 328us/step - loss: 0.6170 - acc: 0.7479 - val_loss: 0.5802 - val_acc: 0.7693\n",
            "Epoch 53/300\n",
            "11858/11858 [==============================] - 4s 331us/step - loss: 0.6133 - acc: 0.7530 - val_loss: 0.5860 - val_acc: 0.7625\n",
            "Epoch 54/300\n",
            "11858/11858 [==============================] - 4s 330us/step - loss: 0.6083 - acc: 0.7493 - val_loss: 0.6207 - val_acc: 0.7587\n",
            "Epoch 55/300\n",
            "11858/11858 [==============================] - 4s 329us/step - loss: 0.6073 - acc: 0.7524 - val_loss: 0.5743 - val_acc: 0.7716\n",
            "Epoch 56/300\n",
            "11858/11858 [==============================] - 4s 328us/step - loss: 0.6016 - acc: 0.7524 - val_loss: 0.5948 - val_acc: 0.7557\n",
            "Epoch 57/300\n",
            "11858/11858 [==============================] - 4s 335us/step - loss: 0.6018 - acc: 0.7497 - val_loss: 0.5770 - val_acc: 0.7595\n",
            "Epoch 58/300\n",
            "11858/11858 [==============================] - 4s 337us/step - loss: 0.5985 - acc: 0.7542 - val_loss: 0.5657 - val_acc: 0.7709\n",
            "Epoch 59/300\n",
            "11858/11858 [==============================] - 4s 330us/step - loss: 0.5954 - acc: 0.7581 - val_loss: 0.5836 - val_acc: 0.7663\n",
            "Epoch 60/300\n",
            "11858/11858 [==============================] - 4s 329us/step - loss: 0.5935 - acc: 0.7559 - val_loss: 0.5812 - val_acc: 0.7769\n",
            "Epoch 61/300\n",
            "11858/11858 [==============================] - 4s 330us/step - loss: 0.5921 - acc: 0.7608 - val_loss: 0.5772 - val_acc: 0.7724\n",
            "Epoch 62/300\n",
            "11858/11858 [==============================] - 4s 329us/step - loss: 0.5955 - acc: 0.7581 - val_loss: 0.5716 - val_acc: 0.7663\n",
            "Epoch 63/300\n",
            "11858/11858 [==============================] - 4s 331us/step - loss: 0.5898 - acc: 0.7584 - val_loss: 0.5932 - val_acc: 0.7481\n",
            "Epoch 64/300\n",
            "11858/11858 [==============================] - 4s 332us/step - loss: 0.5895 - acc: 0.7555 - val_loss: 0.5846 - val_acc: 0.7587\n",
            "Epoch 65/300\n",
            "11858/11858 [==============================] - 4s 329us/step - loss: 0.5841 - acc: 0.7632 - val_loss: 0.5724 - val_acc: 0.7693\n",
            "Epoch 66/300\n",
            "11858/11858 [==============================] - 4s 340us/step - loss: 0.5815 - acc: 0.7617 - val_loss: 0.5692 - val_acc: 0.7648\n",
            "Epoch 67/300\n",
            "11858/11858 [==============================] - 4s 333us/step - loss: 0.5754 - acc: 0.7619 - val_loss: 0.5588 - val_acc: 0.7769\n",
            "Epoch 68/300\n",
            "11858/11858 [==============================] - 4s 332us/step - loss: 0.5765 - acc: 0.7658 - val_loss: 0.5529 - val_acc: 0.7807\n",
            "Epoch 69/300\n",
            "11858/11858 [==============================] - 4s 331us/step - loss: 0.5744 - acc: 0.7666 - val_loss: 0.5599 - val_acc: 0.7709\n",
            "Epoch 70/300\n",
            "11858/11858 [==============================] - 4s 331us/step - loss: 0.5757 - acc: 0.7656 - val_loss: 0.5651 - val_acc: 0.7625\n",
            "Epoch 71/300\n",
            "11858/11858 [==============================] - 4s 333us/step - loss: 0.5728 - acc: 0.7699 - val_loss: 0.5710 - val_acc: 0.7648\n",
            "Epoch 72/300\n",
            "11858/11858 [==============================] - 4s 331us/step - loss: 0.5656 - acc: 0.7675 - val_loss: 0.5774 - val_acc: 0.7678\n",
            "Epoch 73/300\n",
            "11858/11858 [==============================] - 4s 328us/step - loss: 0.5648 - acc: 0.7672 - val_loss: 0.5698 - val_acc: 0.7610\n",
            "Epoch 74/300\n",
            "11858/11858 [==============================] - 4s 333us/step - loss: 0.5691 - acc: 0.7690 - val_loss: 0.5573 - val_acc: 0.7671\n",
            "Epoch 75/300\n",
            "11858/11858 [==============================] - 4s 332us/step - loss: 0.5586 - acc: 0.7721 - val_loss: 0.5574 - val_acc: 0.7693\n",
            "Epoch 76/300\n",
            "11858/11858 [==============================] - 4s 333us/step - loss: 0.5633 - acc: 0.7741 - val_loss: 0.5645 - val_acc: 0.7671\n",
            "Epoch 77/300\n",
            "11858/11858 [==============================] - 4s 329us/step - loss: 0.5579 - acc: 0.7720 - val_loss: 0.5827 - val_acc: 0.7656\n",
            "Epoch 78/300\n",
            "11858/11858 [==============================] - 4s 333us/step - loss: 0.5573 - acc: 0.7727 - val_loss: 0.5740 - val_acc: 0.7648\n",
            "dict_keys(['val_loss', 'val_acc', 'loss', 'acc'])\n"
          ],
          "name": "stdout"
        },
        {
          "output_type": "display_data",
          "data": {
            "image/png": "[encoded data removed]",
            "text/plain": [
              "<Figure size 576x396 with 1 Axes>"
            ]
          },
          "metadata": {
            "tags": []
          }
        },
        {
          "output_type": "display_data",
          "data": {
            "image/png": "[encoded data removed]",
            "text/plain": [
              "<Figure size 576x396 with 1 Axes>"
            ]
          },
          "metadata": {
            "tags": []
          }
        }
      ]
    },
    {
      "metadata": {
        "id": "BzE5C9kKoo1p",
        "colab_type": "code",
        "outputId": "6db81a75-9071-49fa-87d2-f570ad3495cc",
        "colab": {
          "base_uri": "https://localhost:8080/",
          "height": 54
        }
      },
      "cell_type": "code",
      "source": [
        "y_test_predicted = model.predict(X_test_indices)\n",
        "\n",
        "y_test_predicted_result=[]\n",
        "for i in range(y_test_predicted.shape[0]):\n",
        "  y_test_predicted_result=np.append(y_test_predicted_result, y_test_predicted[i].argmax())\n",
        "\n",
        "print(y_test_predicted_result)\n",
        "sentiment_test_result=[]\n",
        "for i in range(Y_test.shape[0]):\n",
        "  sentiment_test_result=np.append(sentiment_test_result, Y_test[i])\n",
        "\n",
        "\n",
        "print(sentiment_test_result)"
      ],
      "execution_count": 20,
      "outputs": [
        {
          "output_type": "stream",
          "text": [
            "[0. 1. 0. ... 1. 0. 0.]\n",
            "[0. 0. 0. ... 2. 0. 0.]\n"
          ],
          "name": "stdout"
        }
      ]
    },
    {
      "metadata": {
        "id": "l7OmHjiO819u",
        "colab_type": "code",
        "outputId": "52428116-aa6d-4acf-f1f6-3f512b88885f",
        "colab": {
          "base_uri": "https://localhost:8080/",
          "height": 72
        }
      },
      "cell_type": "code",
      "source": [
        "from sklearn.metrics import confusion_matrix\n",
        "\n",
        "confusion_matrix(sentiment_test_result,y_test_predicted_result)"
      ],
      "execution_count": 21,
      "outputs": [
        {
          "output_type": "execute_result",
          "data": {
            "text/plain": [
              "array([[755, 125,  38],\n",
              "       [ 69, 209,  32],\n",
              "       [ 42,  42, 152]])"
            ]
          },
          "metadata": {
            "tags": []
          },
          "execution_count": 21
        }
      ]
    },
    {
      "metadata": {
        "id": "ycL5JOJC8zq6",
        "colab_type": "code",
        "outputId": "f26a995e-9d07-44ce-df38-7de580f45d15",
        "colab": {
          "base_uri": "https://localhost:8080/",
          "height": 35
        }
      },
      "cell_type": "code",
      "source": [
        "a=1130/1464\n",
        "print(a)"
      ],
      "execution_count": 22,
      "outputs": [
        {
          "output_type": "stream",
          "text": [
            "0.7718579234972678\n"
          ],
          "name": "stdout"
        }
      ]
    },
    {
      "metadata": {
        "id": "DIskZHDAzDIq",
        "colab_type": "code",
        "outputId": "68143c0e-f191-4ce4-d840-2a2b9160e1af",
        "colab": {
          "base_uri": "https://localhost:8080/",
          "height": 108
        }
      },
      "cell_type": "code",
      "source": [
        "# the testing function for professor to test the result\n",
        "# please type the sentences or words in the np.array() in order to predict the sentiment\n",
        "\n",
        "print(\"please enter the sequence or words\\n\")\n",
        "i=input(\"please type here \\n\")     \n",
        "plt.ion()\n",
        "\n",
        "xx_test = np.array([i])\n",
        "X_test_indices = sentences_to_indices(xx_test, word_to_index, maxLen)\n",
        "print(xx_test[0] +' '+  str(np.argmax(model.predict(X_test_indices))))\n",
        "\n",
        "# the explination of result here\n",
        "# negative -> 0\n",
        "# neutral -> 1\n",
        "# positive -> 2"
      ],
      "execution_count": 24,
      "outputs": [
        {
          "output_type": "stream",
          "text": [
            "please enter the sequence or words\n",
            "\n",
            "please type here \n",
            "good boy\n",
            "good boy 2\n"
          ],
          "name": "stdout"
        }
      ]
    },
    {
      "metadata": {
        "id": "ARBgjZAQJbf-",
        "colab_type": "code",
        "colab": {}
      },
      "cell_type": "code",
      "source": [
        ""
      ],
      "execution_count": 0,
      "outputs": []
    }
  ]
}