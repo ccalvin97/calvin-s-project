{
 "cells": [
  {
   "cell_type": "code",
   "execution_count": 42,
   "metadata": {},
   "outputs": [],
   "source": [
    "import numpy as np\n",
    "import pandas as pd\n",
    "import matplotlib.pyplot as plt\n",
    "import seaborn as sns\n",
    "import warnings\n",
    "from sklearn.preprocessing import LabelEncoder\n",
    "from sklearn.preprocessing import RobustScaler, StandardScaler\n",
    "from sklearn.decomposition import PCA, KernelPCA\n",
    "from sklearn.model_selection import cross_val_score, GridSearchCV, KFold\n",
    "from sklearn.ensemble import RandomForestRegressor, GradientBoostingRegressor, ExtraTreesRegressor\n",
    "from sklearn.ensemble import RandomForestClassifier\n",
    "from sklearn.grid_search import GridSearchCV\n",
    "from sklearn import cross_validation, metrics\n",
    "warnings.filterwarnings('ignore')\n",
    "from sklearn.model_selection import train_test_split\n",
    "import datetime\n",
    "\n",
    "\n",
    "train = pd.read_csv('/Users/calvin/python/crime project/test_100.csv')\n",
    "\n",
    "\n",
    "#初始設定----------------------------------------------------------------------\n",
    "train.dropna(inplace=True)\n",
    "\n",
    "\n",
    "train_y=train['Event count']\n",
    "\n",
    "#all_data = pd.concat([train, test], ignore_index = True)\n",
    "train.drop(['COPLNT_DAY'],axis=1)\n",
    "\n",
    "train_x=train\n",
    "train_x.drop(columns=[\"Event count\"])\n",
    "\n",
    "\n",
    "train_x.dropna(axis=0, how='any')\n",
    "train_x = pd.get_dummies(train_x)\n",
    "\n",
    "#seperate the dataset----------------------------------------------------------\n",
    "#case 1\n",
    "\n",
    "\n",
    "\n",
    "\n",
    "#training set\n",
    "train_x=train_x.values\n",
    "train_y=train_y.values\n",
    "train_x=train_x[:,1:8]\n",
    "train_y=train_y.reshape(-1,1)\n",
    "\n",
    "\n",
    "\n",
    "# 標準化\n",
    "scaler = StandardScaler()\n",
    "scaler.fit(train_x)\n",
    "train_x = scaler.transform(train_x)\n",
    "# test = scaler.transform(test)   \n",
    "\n",
    "#PCA---------------------------------------------------------------------------\n",
    "\n",
    "pca_num=0\n",
    "delta=0.1\n",
    "\n",
    "pca=PCA(n_components = 0.999999)\n",
    "train_x=pca.fit_transform(train_x)"
   ]
  },
  {
   "cell_type": "code",
   "execution_count": 51,
   "metadata": {},
   "outputs": [],
   "source": [
    "train_y=train_y.reshape((-1, ))\n"
   ]
  },
  {
   "cell_type": "code",
   "execution_count": 47,
   "metadata": {},
   "outputs": [
    {
     "name": "stdout",
     "output_type": "stream",
     "text": [
      "CV Score : Mean - 0.9022109 | Std - 0.07243195 \n",
      "the processing time is : 1 seconds\n"
     ]
    }
   ],
   "source": [
    "#Random Forest\n",
    "starttime = datetime.datetime.now()\n",
    "rf0 = RandomForestClassifier(oob_score=True, random_state=10)\n",
    "rf0.fit(train_x,train_y)\n",
    "\n",
    "\n",
    "\n",
    "cv_score = cross_validation.cross_val_score(rf0, train_x, train_y, cv= 10)\n",
    "print(\"CV Score : Mean - %.7g | Std - %.7g \" % (np.mean(cv_score), np.std(cv_score)))\n",
    "\n",
    "\n",
    "endtime = datetime.datetime.now()\n",
    "print (\"the processing time is :\",(endtime - starttime).seconds,\"seconds\")"
   ]
  },
  {
   "cell_type": "code",
   "execution_count": 48,
   "metadata": {},
   "outputs": [
    {
     "name": "stdout",
     "output_type": "stream",
     "text": [
      "0.9746148839227599\n",
      "Best parameters:\n",
      "{'max_depth': 1, 'min_samples_leaf': 1, 'n_estimators': 50}\n",
      "\n",
      "\n",
      "CV Score : Mean - 0.8634551 | Std - 0.1266158 \n",
      "the processing time is : 97 seconds\n"
     ]
    }
   ],
   "source": [
    "#Random Forest\n",
    "from sklearn.ensemble import RandomForestClassifier\n",
    "from sklearn.grid_search import GridSearchCV\n",
    "from sklearn import cross_validation, metrics\n",
    "\n",
    "starttime = datetime.datetime.now()\n",
    "\n",
    "rf = RandomForestClassifier(oob_score=True, random_state=0)\n",
    "rf.fit(train_x,train_y)\n",
    "print(rf.oob_score_)\n",
    "y_rf = rf.predict (train_x)\n",
    "y_rf=y_rf.reshape(-1,1)\n",
    "\n",
    "tuned_parameters = [{'min_samples_leaf':[1,2,3,4], 'n_estimators':[10,50,100,150,200], 'max_depth':[1,2,5]}]\n",
    "rfc = RandomForestClassifier(random_state=0)\n",
    "clf = GridSearchCV(estimator=rfc, param_grid=tuned_parameters, cv=5, n_jobs=1)\n",
    "clf.fit(train_x,train_y) \n",
    "print('Best parameters:') \n",
    "print(clf.best_params_)\n",
    "\n",
    "print(\"\\n\")\n",
    "cv_score = cross_validation.cross_val_score(rfc, train_x, train_y, cv= 10)\n",
    "print(\"CV Score : Mean - %.7g | Std - %.7g \" % (np.mean(cv_score), np.std(cv_score)))\n",
    "\n",
    "\n",
    "endtime = datetime.datetime.now()\n",
    "print (\"the processing time is :\",(endtime - starttime).seconds,\"seconds\")"
   ]
  },
  {
   "cell_type": "code",
   "execution_count": 50,
   "metadata": {},
   "outputs": [
    {
     "ename": "NameError",
     "evalue": "name 'test_x' is not defined",
     "output_type": "error",
     "traceback": [
      "\u001b[0;31m---------------------------------------------------------------------------\u001b[0m",
      "\u001b[0;31mNameError\u001b[0m                                 Traceback (most recent call last)",
      "\u001b[0;32m<ipython-input-50-02a76742e4c2>\u001b[0m in \u001b[0;36m<module>\u001b[0;34m()\u001b[0m\n\u001b[0;32m----> 1\u001b[0;31m \u001b[0mprint\u001b[0m\u001b[0;34m(\u001b[0m\u001b[0;34m'Score: '\u001b[0m\u001b[0;34m,\u001b[0m \u001b[0mclf\u001b[0m\u001b[0;34m.\u001b[0m\u001b[0mscore\u001b[0m\u001b[0;34m(\u001b[0m\u001b[0mtest_x\u001b[0m\u001b[0;34m,\u001b[0m \u001b[0mtest_y\u001b[0m\u001b[0;34m)\u001b[0m\u001b[0;34m)\u001b[0m\u001b[0;34m\u001b[0m\u001b[0m\n\u001b[0m",
      "\u001b[0;31mNameError\u001b[0m: name 'test_x' is not defined"
     ]
    }
   ],
   "source": [
    "print('Score: ', clf.score(test_x, test_y))"
   ]
  },
  {
   "cell_type": "code",
   "execution_count": 4,
   "metadata": {},
   "outputs": [
    {
     "name": "stdout",
     "output_type": "stream",
     "text": [
      "0.9739639835105229\n",
      "[0 0 0 ... 0 0 0]\n",
      "Best parameters:\n",
      "{'n_estimators': 60}\n",
      "\n",
      "\n",
      "CV Score : Mean - 0.8634551 | Std - 0.1266158 \n"
     ]
    }
   ],
   "source": [
    "# rf = RandomForestClassifier(oob_score=True, random_state=10)\n",
    "# rf.fit(train_x,train_y)\n",
    "# print(rf.oob_score_)\n",
    "# y_rf = rf.predict (train_x)\n",
    "\n",
    "# print(y_rf)\n",
    "\n",
    "# # {'criterion':['gini','entrophy']\n",
    "# param_test = {'classify__n_estimators':list(range(10,100,10)), \n",
    "#               'classify__max_depth':list(range(3,60,3))}\n",
    "# # tuned_parameters = {'min_samples_leaf':list(range(2,4,1)), 'n_estimators':list(range(10,20,40,60,80,100,120,140,160,180,200))}\n",
    "# rfc = RandomForestClassifier( random_state=0)\n",
    "# clf = GridSearchCV(estimator=rfc, param_grid ={'n_estimators':[10,20,30,40,50,60,70]}, cv=5, n_jobs=-1)\n",
    "# clf.fit(train_x,train_y) \n",
    "# print('Best parameters:') \n",
    "# print(clf.best_params_)\n",
    "\n",
    "# print(\"\\n\")\n",
    "# cv_score = cross_validation.cross_val_score(rfc, train_x, train_y, cv= 10)\n",
    "# print(\"CV Score : Mean - %.7g | Std - %.7g \" % (np.mean(cv_score), np.std(cv_score)))"
   ]
  },
  {
   "cell_type": "code",
   "execution_count": 5,
   "metadata": {},
   "outputs": [
    {
     "ename": "NameError",
     "evalue": "name 'pipeline' is not defined",
     "output_type": "error",
     "traceback": [
      "\u001b[0;31m---------------------------------------------------------------------------\u001b[0m",
      "\u001b[0;31mNameError\u001b[0m                                 Traceback (most recent call last)",
      "\u001b[0;32m<ipython-input-5-ee0041da5353>\u001b[0m in \u001b[0;36m<module>\u001b[0;34m()\u001b[0m\n\u001b[1;32m      1\u001b[0m \u001b[0mrfc\u001b[0m \u001b[0;34m=\u001b[0m \u001b[0mRandomForestClassifier\u001b[0m\u001b[0;34m(\u001b[0m\u001b[0mmax_depth\u001b[0m\u001b[0;34m=\u001b[0m\u001b[0;36m2\u001b[0m\u001b[0;34m,\u001b[0m \u001b[0mrandom_state\u001b[0m\u001b[0;34m=\u001b[0m\u001b[0;36m0\u001b[0m\u001b[0;34m)\u001b[0m\u001b[0;34m\u001b[0m\u001b[0m\n\u001b[1;32m      2\u001b[0m \u001b[0;34m\u001b[0m\u001b[0m\n\u001b[0;32m----> 3\u001b[0;31m \u001b[0mcv_score\u001b[0m \u001b[0;34m=\u001b[0m \u001b[0mcross_validation\u001b[0m\u001b[0;34m.\u001b[0m\u001b[0mcross_val_score\u001b[0m\u001b[0;34m(\u001b[0m\u001b[0mpipeline\u001b[0m\u001b[0;34m,\u001b[0m \u001b[0mtrain_x\u001b[0m\u001b[0;34m,\u001b[0m \u001b[0mtrain_y\u001b[0m\u001b[0;34m,\u001b[0m \u001b[0mcv\u001b[0m\u001b[0;34m=\u001b[0m \u001b[0;36m10\u001b[0m\u001b[0;34m)\u001b[0m\u001b[0;34m\u001b[0m\u001b[0m\n\u001b[0m\u001b[1;32m      4\u001b[0m \u001b[0mprint\u001b[0m\u001b[0;34m(\u001b[0m\u001b[0;34m\"CV Score : Mean - %.7g | Std - %.7g \"\u001b[0m \u001b[0;34m%\u001b[0m \u001b[0;34m(\u001b[0m\u001b[0mnp\u001b[0m\u001b[0;34m.\u001b[0m\u001b[0mmean\u001b[0m\u001b[0;34m(\u001b[0m\u001b[0mcv_score\u001b[0m\u001b[0;34m)\u001b[0m\u001b[0;34m,\u001b[0m \u001b[0mnp\u001b[0m\u001b[0;34m.\u001b[0m\u001b[0mstd\u001b[0m\u001b[0;34m(\u001b[0m\u001b[0mcv_score\u001b[0m\u001b[0;34m)\u001b[0m\u001b[0;34m)\u001b[0m\u001b[0;34m)\u001b[0m\u001b[0;34m\u001b[0m\u001b[0m\n",
      "\u001b[0;31mNameError\u001b[0m: name 'pipeline' is not defined"
     ]
    }
   ],
   "source": [
    "# rfc = RandomForestClassifier(max_depth=2, random_state=0)\n",
    "\n",
    "# cv_score = cross_validation.cross_val_score(pipeline, train_x, train_y, cv= 10)\n",
    "# print(\"CV Score : Mean - %.7g | Std - %.7g \" % (np.mean(cv_score), np.std(cv_score)))"
   ]
  }
 ],
 "metadata": {
  "kernelspec": {
   "display_name": "Python 3",
   "language": "python",
   "name": "python3"
  },
  "language_info": {
   "codemirror_mode": {
    "name": "ipython",
    "version": 3
   },
   "file_extension": ".py",
   "mimetype": "text/x-python",
   "name": "python",
   "nbconvert_exporter": "python",
   "pygments_lexer": "ipython3",
   "version": "3.6.5"
  }
 },
 "nbformat": 4,
 "nbformat_minor": 2
}
