{
  "nbformat": 4,
  "nbformat_minor": 0,
  "metadata": {
    "colab": {
      "name": "cancer_v2.ipynb",
      "version": "0.3.2",
      "provenance": [],
      "collapsed_sections": []
    },
    "kernelspec": {
      "name": "python3",
      "display_name": "Python 3"
    },
    "accelerator": "TPU"
  },
  "cells": [
    {
      "cell_type": "code",
      "metadata": {
        "id": "HB9DAkCF9waP",
        "colab_type": "code",
        "colab": {}
      },
      "source": [
        "from imgaug import augmenters as iaa\n",
        "import imgaug as ia"
      ],
      "execution_count": 0,
      "outputs": []
    },
    {
      "cell_type": "code",
      "metadata": {
        "id": "kajvgcLw-wGv",
        "colab_type": "code",
        "colab": {}
      },
      "source": [
        "# !pip3 install http://download.pytorch.org/whl/cu80/torch-0.3.0.post4-cp36-cp36m-linux_x86_64.whl \n",
        "# !pip3 install torchvision"
      ],
      "execution_count": 0,
      "outputs": []
    },
    {
      "cell_type": "code",
      "metadata": {
        "id": "cIkWdCYG-wJu",
        "colab_type": "code",
        "outputId": "32bcf278-f3fe-4d02-86ca-137cbc02a515",
        "colab": {
          "base_uri": "https://localhost:8080/",
          "height": 156
        }
      },
      "source": [
        "from googleapiclient.discovery import build\n",
        "import io, os\n",
        "from googleapiclient.http import MediaIoBaseDownload\n",
        "from google.colab import auth\n",
        "auth.authenticate_user()\n",
        "drive_service = build('drive', 'v3')\n",
        "results = drive_service.files().list(\n",
        "        q=\"name = 'kaggle.json'\", fields=\"files(id)\").execute()\n",
        "kaggle_api_key = results.get('files', [])\n",
        "filename = \"/root/.kaggle/kaggle.json\"\n",
        "os.makedirs(os.path.dirname(filename), exist_ok=True)\n",
        "request = drive_service.files().get_media(fileId=kaggle_api_key[0]['id'])\n",
        "fh = io.FileIO(filename, 'wb')\n",
        "downloader = MediaIoBaseDownload(fh, request)\n",
        "done = False\n",
        "while done is False:\n",
        "    status, done = downloader.next_chunk()\n",
        "    print(\"Download %d%%.\" % int(status.progress() * 100))\n",
        "os.chmod(filename, 600)"
      ],
      "execution_count": 0,
      "outputs": [
        {
          "output_type": "stream",
          "text": [
            "\n",
            "WARNING: The TensorFlow contrib module will not be included in TensorFlow 2.0.\n",
            "For more information, please see:\n",
            "  * https://github.com/tensorflow/community/blob/master/rfcs/20180907-contrib-sunset.md\n",
            "  * https://github.com/tensorflow/addons\n",
            "If you depend on functionality not listed there, please file an issue.\n",
            "\n",
            "Download 100%.\n"
          ],
          "name": "stdout"
        }
      ]
    },
    {
      "cell_type": "code",
      "metadata": {
        "id": "vpBnqLYc_Hpd",
        "colab_type": "code",
        "outputId": "de231fef-d61b-487c-ee42-26308e23a829",
        "colab": {
          "base_uri": "https://localhost:8080/",
          "height": 121
        }
      },
      "source": [
        "!kaggle competitions files -c histopathologic-cancer-detection "
      ],
      "execution_count": 0,
      "outputs": [
        {
          "output_type": "stream",
          "text": [
            "name                   size  creationDate         \n",
            "---------------------  ----  -------------------  \n",
            "sample_submission.csv   2MB  2018-11-15 23:20:36  \n",
            "train_labels.csv        9MB  2018-11-15 23:20:37  \n",
            "test.zip                1GB  2018-11-15 23:21:06  \n",
            "train.zip               5GB  2018-11-15 23:23:49  \n"
          ],
          "name": "stdout"
        }
      ]
    },
    {
      "cell_type": "code",
      "metadata": {
        "id": "D8T1mlsU-wMY",
        "colab_type": "code",
        "outputId": "4d09a6b9-0070-4ae5-8098-e061f93e71f6",
        "colab": {
          "base_uri": "https://localhost:8080/",
          "height": 225
        }
      },
      "source": [
        "!kaggle competitions download  -c histopathologic-cancer-detection -p /content/kaggle"
      ],
      "execution_count": 0,
      "outputs": [
        {
          "output_type": "stream",
          "text": [
            "Downloading sample_submission.csv.zip to /content/kaggle\n",
            "\r  0% 0.00/1.33M [00:00<?, ?B/s]\n",
            "100% 1.33M/1.33M [00:00<00:00, 43.7MB/s]\n",
            "Downloading train_labels.csv.zip to /content/kaggle\n",
            "  0% 0.00/5.10M [00:00<?, ?B/s]\n",
            "100% 5.10M/5.10M [00:00<00:00, 83.3MB/s]\n",
            "Downloading test.zip to /content/kaggle\n",
            " 99% 1.29G/1.30G [00:14<00:00, 143MB/s]\n",
            "100% 1.30G/1.30G [00:14<00:00, 98.1MB/s]\n",
            "Downloading train.zip to /content/kaggle\n",
            "100% 4.98G/4.98G [02:48<00:00, 36.1MB/s]\n",
            "100% 4.98G/4.98G [02:49<00:00, 31.6MB/s]\n"
          ],
          "name": "stdout"
        }
      ]
    },
    {
      "cell_type": "code",
      "metadata": {
        "id": "RfV8f0fI-wO5",
        "colab_type": "code",
        "colab": {}
      },
      "source": [
        "import zipfile\n",
        "import os\n",
        "import pandas as pd\n",
        "import numpy as np\n",
        "import gzip\n",
        "import os\n",
        "import tarfile\n",
        "import zipfile"
      ],
      "execution_count": 0,
      "outputs": []
    },
    {
      "cell_type": "code",
      "metadata": {
        "id": "hQFoNlau-wRZ",
        "colab_type": "code",
        "colab": {}
      },
      "source": [
        "def un_zip(file_name):\n",
        "    \"\"\"unzip zip file\"\"\"\n",
        "    zip_file = zipfile.ZipFile(file_name)\n",
        "    if os.path.isdir(file_name + \"_files\"):\n",
        "        pass\n",
        "    else:\n",
        "        os.mkdir(file_name + \"_files\")\n",
        "    for names in zip_file.namelist():\n",
        "        zip_file.extract(names,file_name + \"_files/\")\n",
        "    zip_file.close()\n",
        "    \n",
        "    \n",
        "un_zip(\"/content/kaggle/train.zip\")\n",
        "un_zip(\"/content/kaggle/test.zip\")\n",
        "un_zip(\"/content/kaggle/train_labels.csv.zip\")"
      ],
      "execution_count": 0,
      "outputs": []
    },
    {
      "cell_type": "code",
      "metadata": {
        "id": "39sZKyEw-wUJ",
        "colab_type": "code",
        "outputId": "1a11dba1-b25a-4703-bf44-ee64a6ec601d",
        "colab": {
          "base_uri": "https://localhost:8080/",
          "height": 35
        }
      },
      "source": [
        "import numpy as np\n",
        "import pandas as pd \n",
        "import os\n",
        "from glob import glob\n",
        "from random import shuffle\n",
        "import cv2\n",
        "import matplotlib.pyplot as plt\n",
        "from sklearn.model_selection import train_test_split\n",
        "from keras.preprocessing.image import ImageDataGenerator\n",
        "from keras.layers import Convolution1D, concatenate, SpatialDropout1D, GlobalMaxPool1D, GlobalAvgPool1D, Embedding, \\\n",
        "    Conv2D, SeparableConv1D, Add, BatchNormalization, Activation, GlobalAveragePooling2D, LeakyReLU, Flatten\n",
        "from keras.layers import Dense, Input, Dropout, MaxPooling2D, Concatenate, GlobalMaxPooling2D, GlobalAveragePooling2D, \\\n",
        "    Lambda, Multiply, LSTM, Bidirectional, PReLU, MaxPooling1D\n",
        "from keras.layers.pooling import _GlobalPooling1D\n",
        "from keras.losses import mae, sparse_categorical_crossentropy, binary_crossentropy\n",
        "from keras.models import Model\n",
        "from keras.applications.nasnet import NASNetMobile, NASNetLarge, preprocess_input\n",
        "from keras.optimizers import Adam, RMSprop\n",
        "from keras.callbacks import ModelCheckpoint, EarlyStopping, ReduceLROnPlateau"
      ],
      "execution_count": 0,
      "outputs": [
        {
          "output_type": "stream",
          "text": [
            "Using TensorFlow backend.\n"
          ],
          "name": "stderr"
        }
      ]
    },
    {
      "cell_type": "code",
      "metadata": {
        "id": "qFqQo_cQ-wWo",
        "colab_type": "code",
        "outputId": "4b477b16-7024-4539-e84c-89fade885480",
        "colab": {
          "base_uri": "https://localhost:8080/",
          "height": 202
        }
      },
      "source": [
        "df_train = pd.read_csv(\"/content/kaggle/train_labels.csv.zip_files/train_labels.csv\")\n",
        "id_label_map = {k:v for k,v in zip(df_train.id.values, df_train.label.values)}\n",
        "df_train.head()"
      ],
      "execution_count": 0,
      "outputs": [
        {
          "output_type": "execute_result",
          "data": {
            "text/html": [
              "<div>\n",
              "<style scoped>\n",
              "    .dataframe tbody tr th:only-of-type {\n",
              "        vertical-align: middle;\n",
              "    }\n",
              "\n",
              "    .dataframe tbody tr th {\n",
              "        vertical-align: top;\n",
              "    }\n",
              "\n",
              "    .dataframe thead th {\n",
              "        text-align: right;\n",
              "    }\n",
              "</style>\n",
              "<table border=\"1\" class=\"dataframe\">\n",
              "  <thead>\n",
              "    <tr style=\"text-align: right;\">\n",
              "      <th></th>\n",
              "      <th>id</th>\n",
              "      <th>label</th>\n",
              "    </tr>\n",
              "  </thead>\n",
              "  <tbody>\n",
              "    <tr>\n",
              "      <th>0</th>\n",
              "      <td>f38a6374c348f90b587e046aac6079959adf3835</td>\n",
              "      <td>0</td>\n",
              "    </tr>\n",
              "    <tr>\n",
              "      <th>1</th>\n",
              "      <td>c18f2d887b7ae4f6742ee445113fa1aef383ed77</td>\n",
              "      <td>1</td>\n",
              "    </tr>\n",
              "    <tr>\n",
              "      <th>2</th>\n",
              "      <td>755db6279dae599ebb4d39a9123cce439965282d</td>\n",
              "      <td>0</td>\n",
              "    </tr>\n",
              "    <tr>\n",
              "      <th>3</th>\n",
              "      <td>bc3f0c64fb968ff4a8bd33af6971ecae77c75e08</td>\n",
              "      <td>0</td>\n",
              "    </tr>\n",
              "    <tr>\n",
              "      <th>4</th>\n",
              "      <td>068aba587a4950175d04c680d38943fd488d6a9d</td>\n",
              "      <td>0</td>\n",
              "    </tr>\n",
              "  </tbody>\n",
              "</table>\n",
              "</div>"
            ],
            "text/plain": [
              "                                         id  label\n",
              "0  f38a6374c348f90b587e046aac6079959adf3835      0\n",
              "1  c18f2d887b7ae4f6742ee445113fa1aef383ed77      1\n",
              "2  755db6279dae599ebb4d39a9123cce439965282d      0\n",
              "3  bc3f0c64fb968ff4a8bd33af6971ecae77c75e08      0\n",
              "4  068aba587a4950175d04c680d38943fd488d6a9d      0"
            ]
          },
          "metadata": {
            "tags": []
          },
          "execution_count": 9
        }
      ]
    },
    {
      "cell_type": "code",
      "metadata": {
        "id": "Zye8X6mG-wZm",
        "colab_type": "code",
        "colab": {}
      },
      "source": [
        "def get_id_from_file_path(file_path):\n",
        "    return file_path.split(os.path.sep)[-1].replace('.tif', '')"
      ],
      "execution_count": 0,
      "outputs": []
    },
    {
      "cell_type": "code",
      "metadata": {
        "id": "7iDLIRMg-wcg",
        "colab_type": "code",
        "colab": {}
      },
      "source": [
        "labeled_files = glob('/content/kaggle/train.zip_files/*.tif')\n",
        "test_files = glob('/content/kaggle/test.zip_files/*.tif')"
      ],
      "execution_count": 0,
      "outputs": []
    },
    {
      "cell_type": "code",
      "metadata": {
        "id": "xpJ0J-i2-wfU",
        "colab_type": "code",
        "colab": {}
      },
      "source": [
        "train, val = train_test_split(labeled_files, test_size=0.1, random_state=1)"
      ],
      "execution_count": 0,
      "outputs": []
    },
    {
      "cell_type": "code",
      "metadata": {
        "id": "v4_a27Ay-wiB",
        "colab_type": "code",
        "colab": {}
      },
      "source": [
        "def chunker(seq, size):\n",
        "    return (seq[pos:pos + size] for pos in range(0, len(seq), size))\n",
        "def get_seq():\n",
        "    sometimes = lambda aug: iaa.Sometimes(0.5, aug)\n",
        "    seq = iaa.Sequential(\n",
        "        [\n",
        "            \n",
        "            iaa.Fliplr(0.5), # horizontally flip \n",
        "            iaa.Flipud(0.2), # vertically flip\n",
        "            sometimes(iaa.Affine(\n",
        "                scale={\"x\": (0.9, 1.1), \"y\": (0.9, 1.1)}, # scale images to 80-120% \n",
        "                translate_percent={\"x\": (-0.1, 0.1), \"y\": (-0.1, 0.1)}, # translate by -20 to +20% (per axis)\n",
        "                rotate=(-10, 10), # rotate by -45 to +45 \n",
        "                shear=(-5, 5), # shear by -16 to +16 \n",
        "                order=[0, 1], # use nearest neighbour or bilinear interpolation \n",
        "                cval=(0, 255), # if mode is constant, use a cval between 0 and 255\n",
        "                mode=ia.ALL # use any of scikit-image's warping modes \n",
        "            )),\n",
        "\n",
        "            iaa.SomeOf((0, 5),\n",
        "                [\n",
        "                    sometimes(iaa.Superpixels(p_replace=(0, 1.0), n_segments=(20, 200))), # convert images into their superpixel representation\n",
        "                    iaa.OneOf([\n",
        "                        iaa.GaussianBlur((0, 1.0)), # blur images with a sigma between 0 and 3.0\n",
        "                        iaa.AverageBlur(k=(3, 5)), # blur image using local means with kernel sizes between 2 and 7\n",
        "                        iaa.MedianBlur(k=(3, 5)), # blur image using local medians with kernel sizes between 2 and 7\n",
        "                    ]),\n",
        "                    iaa.Sharpen(alpha=(0, 1.0), lightness=(0.9, 1.1)), # sharpen images\n",
        "                    iaa.Emboss(alpha=(0, 1.0), strength=(0, 2.0)), # emboss images\n",
        "                    \n",
        "                    iaa.SimplexNoiseAlpha(iaa.OneOf([\n",
        "                        iaa.EdgeDetect(alpha=(0.5, 1.0)),\n",
        "                        iaa.DirectedEdgeDetect(alpha=(0.5, 1.0), direction=(0.0, 1.0)),\n",
        "                    ])),\n",
        "                    iaa.AdditiveGaussianNoise(loc=0, scale=(0.0, 0.01*255), per_channel=0.5), # add gaussian noise to images\n",
        "                    iaa.OneOf([\n",
        "                        iaa.Dropout((0.01, 0.05), per_channel=0.5), # randomly remove up to 10% of the pixels\n",
        "                        iaa.CoarseDropout((0.01, 0.03), size_percent=(0.01, 0.02), per_channel=0.2),\n",
        "                    ]),\n",
        "                    iaa.Invert(0.01, per_channel=True), # invert color channels\n",
        "                    iaa.Add((-2, 2), per_channel=0.5), # change brightness of images (by -10 to 10 of original value)\n",
        "                    iaa.AddToHueAndSaturation((-1, 1)), # change hue and saturation\n",
        "\n",
        "                    iaa.OneOf([\n",
        "                        iaa.Multiply((0.9, 1.1), per_channel=0.5),\n",
        "                        iaa.FrequencyNoiseAlpha(\n",
        "                            exponent=(-1, 0),\n",
        "                            first=iaa.Multiply((0.9, 1.1), per_channel=True),\n",
        "                            second=iaa.ContrastNormalization((0.9, 1.1))\n",
        "                        )\n",
        "                    ]),\n",
        "#                     sometimes(iaa.ElasticTransformation(alpha=(0.5, 3.5), sigma=0.25)), # move pixels locally around (with random strengths)\n",
        "#                     sometimes(iaa.PiecewiseAffine(scale=(0.01, 0.05))), # sometimes move parts of the image around\n",
        "#                     sometimes(iaa.PerspectiveTransform(scale=(0.01, 0.1)))\n",
        "                ],\n",
        "                random_order=True\n",
        "            )\n",
        "        ],\n",
        "        random_order=True\n",
        "    )\n",
        "    return seq\n",
        "\n",
        "def data_gen(list_files, id_label_map, batch_size, augment=False):\n",
        "    seq = get_seq()\n",
        "    while True:\n",
        "        shuffle(list_files)\n",
        "        for batch in chunker(list_files, batch_size):\n",
        "            X = [cv2.imread(x) for x in batch]\n",
        "            Y = [id_label_map[get_id_from_file_path(x)] for x in batch]\n",
        "            if augment:\n",
        "                X = seq.augment_images(X)\n",
        "            X = [preprocess_input(x) for x in X]\n",
        "                \n",
        "            yield np.array(X), np.array(Y)\n",
        "\n"
      ],
      "execution_count": 0,
      "outputs": []
    },
    {
      "cell_type": "code",
      "metadata": {
        "id": "bawAC0Ef-wk5",
        "colab_type": "code",
        "colab": {}
      },
      "source": [
        "def get_model_classif_nasnet():\n",
        "    inputs = Input((96, 96, 3))\n",
        "    base_model = NASNetMobile(input_shape=(96, 96, 3),include_top=False,weights=None)\n",
        "    x = base_model(inputs)\n",
        "    out1 = GlobalMaxPooling2D()(x)\n",
        "    out2 = GlobalAveragePooling2D()(x)\n",
        "    out3 = Flatten()(x)\n",
        "    out = Concatenate(axis=-1)([out1, out2, out3])  \n",
        "    out = Dropout(0.5)(out)\n",
        "    out = Dense(1, activation=\"sigmoid\", name=\"3_\")(out)\n",
        "    model = Model(inputs, out)\n",
        "    model.compile(optimizer=Adam(0.0001), loss=binary_crossentropy, metrics=['acc'])\n",
        "    model.summary()\n",
        "\n",
        "    return model"
      ],
      "execution_count": 0,
      "outputs": []
    },
    {
      "cell_type": "code",
      "metadata": {
        "id": "HJHkV-Dp-wn7",
        "colab_type": "code",
        "outputId": "60cac6ff-bb67-44f5-de76-7092ac06431d",
        "colab": {
          "base_uri": "https://localhost:8080/",
          "height": 575
        }
      },
      "source": [
        "model = get_model_classif_nasnet()"
      ],
      "execution_count": 0,
      "outputs": [
        {
          "output_type": "stream",
          "text": [
            "WARNING:tensorflow:From /usr/local/lib/python3.6/dist-packages/tensorflow/python/framework/op_def_library.py:263: colocate_with (from tensorflow.python.framework.ops) is deprecated and will be removed in a future version.\n",
            "Instructions for updating:\n",
            "Colocations handled automatically by placer.\n",
            "WARNING:tensorflow:From /usr/local/lib/python3.6/dist-packages/keras/backend/tensorflow_backend.py:3445: calling dropout (from tensorflow.python.ops.nn_ops) with keep_prob is deprecated and will be removed in a future version.\n",
            "Instructions for updating:\n",
            "Please use `rate` instead of `keep_prob`. Rate should be set to `rate = 1 - keep_prob`.\n",
            "__________________________________________________________________________________________________\n",
            "Layer (type)                    Output Shape         Param #     Connected to                     \n",
            "==================================================================================================\n",
            "input_1 (InputLayer)            (None, 96, 96, 3)    0                                            \n",
            "__________________________________________________________________________________________________\n",
            "NASNet (Model)                  (None, 3, 3, 1056)   4269716     input_1[0][0]                    \n",
            "__________________________________________________________________________________________________\n",
            "global_max_pooling2d_1 (GlobalM (None, 1056)         0           NASNet[1][0]                     \n",
            "__________________________________________________________________________________________________\n",
            "global_average_pooling2d_1 (Glo (None, 1056)         0           NASNet[1][0]                     \n",
            "__________________________________________________________________________________________________\n",
            "flatten_1 (Flatten)             (None, 9504)         0           NASNet[1][0]                     \n",
            "__________________________________________________________________________________________________\n",
            "concatenate_5 (Concatenate)     (None, 11616)        0           global_max_pooling2d_1[0][0]     \n",
            "                                                                 global_average_pooling2d_1[0][0] \n",
            "                                                                 flatten_1[0][0]                  \n",
            "__________________________________________________________________________________________________\n",
            "dropout_1 (Dropout)             (None, 11616)        0           concatenate_5[0][0]              \n",
            "__________________________________________________________________________________________________\n",
            "3_ (Dense)                      (None, 1)            11617       dropout_1[0][0]                  \n",
            "==================================================================================================\n",
            "Total params: 4,281,333\n",
            "Trainable params: 4,244,595\n",
            "Non-trainable params: 36,738\n",
            "__________________________________________________________________________________________________\n"
          ],
          "name": "stdout"
        }
      ]
    },
    {
      "cell_type": "code",
      "metadata": {
        "id": "F4vsVWjDEWTL",
        "colab_type": "code",
        "outputId": "cc743819-60eb-46fd-c14e-d6122e03d182",
        "colab": {
          "base_uri": "https://localhost:8080/",
          "height": 35
        }
      },
      "source": [
        "len(val)"
      ],
      "execution_count": 0,
      "outputs": [
        {
          "output_type": "execute_result",
          "data": {
            "text/plain": [
              "22003"
            ]
          },
          "metadata": {
            "tags": []
          },
          "execution_count": 16
        }
      ]
    },
    {
      "cell_type": "code",
      "metadata": {
        "id": "gCT-i8TF-wqy",
        "colab_type": "code",
        "outputId": "14537980-116a-4269-dfb2-546c367e6136",
        "colab": {
          "base_uri": "https://localhost:8080/",
          "height": 245
        }
      },
      "source": [
        "batch_size=32\n",
        "h5_path = \"model.h5\"\n",
        "checkpoint = ModelCheckpoint(h5_path, monitor='val_acc', verbose=1, save_best_only=True, mode='max')\n",
        "callbacks_list = [checkpoint]\n",
        "\n",
        "\n",
        "history = model.fit_generator(\n",
        "    data_gen(train, id_label_map, batch_size, augment=True),\n",
        "    validation_data=data_gen(val, id_label_map, batch_size),\n",
        "    epochs=2, verbose=1,\n",
        "    callbacks=[checkpoint],\n",
        "    steps_per_epoch=len(train) // batch_size,\n",
        "    validation_steps=len(val) // batch_size)\n",
        "batch_size=64\n",
        "history = model.fit_generator(\n",
        "    data_gen(train, id_label_map, batch_size, augment=True),\n",
        "    validation_data=data_gen(val, id_label_map, batch_size),\n",
        "    epochs=6, verbose=1,\n",
        "    callbacks=[checkpoint],\n",
        "    steps_per_epoch=len(train) // batch_size,\n",
        "    validation_steps=len(val) // batch_size)\n",
        "\n",
        "model.load_weights(h5_path)"
      ],
      "execution_count": 0,
      "outputs": [
        {
          "output_type": "stream",
          "text": [
            "WARNING:tensorflow:From /usr/local/lib/python3.6/dist-packages/tensorflow/python/ops/math_ops.py:3066: to_int32 (from tensorflow.python.ops.math_ops) is deprecated and will be removed in a future version.\n",
            "Instructions for updating:\n",
            "Use tf.cast instead.\n",
            "WARNING:tensorflow:From /usr/local/lib/python3.6/dist-packages/tensorflow/python/ops/math_grad.py:102: div (from tensorflow.python.ops.math_ops) is deprecated and will be removed in a future version.\n",
            "Instructions for updating:\n",
            "Deprecated in favor of operator or tf.math.divide.\n",
            "Epoch 1/2\n",
            "6188/6188 [==============================] - 25863s 4s/step - loss: 0.6326 - acc: 0.7002 - val_loss: 0.7331 - val_acc: 0.6599\n",
            "\n",
            "Epoch 00001: val_acc improved from -inf to 0.65993, saving model to model.h5\n",
            "Epoch 2/2\n",
            "   3/6188 [..............................] - ETA: 5:19:00 - loss: 0.9663 - acc: 0.5486"
          ],
          "name": "stdout"
        }
      ]
    },
    {
      "cell_type": "code",
      "metadata": {
        "id": "v-CrrMc5-wti",
        "colab_type": "code",
        "colab": {}
      },
      "source": [
        "for batch in chunker(test_files, batch_size):\n",
        "    X = [preprocess_input(cv2.imread(x)) for x in batch]\n",
        "    ids_batch = [get_id_from_file_path(x) for x in batch]\n",
        "    X = np.array(X)\n",
        "    preds_batch = ((model.predict(X).ravel()*model.predict(X[:, ::-1, :, :]).ravel()*model.predict(X[:, ::-1, ::-1, :]).ravel()*model.predict(X[:, :, ::-1, :]).ravel())**0.25).tolist()\n",
        "    preds += preds_batch\n",
        "    ids += ids_batch"
      ],
      "execution_count": 0,
      "outputs": []
    },
    {
      "cell_type": "code",
      "metadata": {
        "id": "6rEJysll9xBg",
        "colab_type": "code",
        "colab": {}
      },
      "source": [
        "df = pd.DataFrame({'id':ids, 'label':preds})\n",
        "df.to_csv(\"baseline_nasnet.csv\", index=False)\n",
        "df.head()"
      ],
      "execution_count": 0,
      "outputs": []
    },
    {
      "cell_type": "code",
      "metadata": {
        "id": "z37Qz1NNcxaC",
        "colab_type": "code",
        "colab": {}
      },
      "source": [
        "from google.colab import files\n",
        "\n",
        "df.to_csv('df.csv')\n",
        "files.download('df.csv')"
      ],
      "execution_count": 0,
      "outputs": []
    },
    {
      "cell_type": "code",
      "metadata": {
        "id": "KG1Zn63FpLLY",
        "colab_type": "code",
        "colab": {}
      },
      "source": [
        ""
      ],
      "execution_count": 0,
      "outputs": []
    }
  ]
}